{
 "cells": [
  {
   "cell_type": "markdown",
   "metadata": {
    "id": "LYCltKKsYCR9"
   },
   "source": [
    "The purpose of this notebook is to generate the figures for the thesis."
   ]
  },
  {
   "cell_type": "markdown",
   "metadata": {
    "id": "b7BFPh3QK6eq"
   },
   "source": [
    "## Setup"
   ]
  },
  {
   "cell_type": "markdown",
   "metadata": {
    "id": "nfBwUyY1LDZr"
   },
   "source": [
    "Next, we import some required packages and our own modules."
   ]
  },
  {
   "cell_type": "code",
   "execution_count": 1,
   "metadata": {
    "executionInfo": {
     "elapsed": 6213,
     "status": "ok",
     "timestamp": 1651851896846,
     "user": {
      "displayName": "John",
      "userId": "10811631092418059896"
     },
     "user_tz": -120
    },
    "id": "a8-uQm2RK0cJ"
   },
   "outputs": [],
   "source": [
    "import torch\n",
    "import numpy as np\n",
    "import matplotlib.pyplot as plt\n",
    "import math\n",
    "\n",
    "from torch import nn\n",
    "\n",
    "from modules.utils import save_model, compare_hedgers, compare_strategy\n",
    "from modules.market_impact import ZeroImpact, FixedImpact\n",
    "from modules.transaction_cost import ZeroCost\n",
    "from modules.risk_measure import AverageValueAtRisk\n",
    "from modules.derivative import EuropeanOption\n",
    "from modules.black_scholes import BlackScholesModel, BlackScholesHedger, compare_to_black_scholes_hedger\n",
    "from modules.bachelier import BachelierModel, BachelierHedger, BachelierHedgerFixedImpact\n",
    "from modules.deep_hedger import DeepHedger, SimpleDeepHedger\n",
    "\n",
    "figure_path = 'figures/'"
   ]
  },
  {
   "cell_type": "markdown",
   "metadata": {
    "id": "OkqwrSCiL8wk"
   },
   "source": [
    "If a GPU is available, we would like to use the GPU to speed up the training process. \\\\\n",
    "Unfortunately, for some reason, training with the GPU is slower than without! \\\\\n",
    "For this reason we will use the CPU for now!"
   ]
  },
  {
   "cell_type": "code",
   "execution_count": 2,
   "metadata": {
    "colab": {
     "base_uri": "https://localhost:8080/"
    },
    "executionInfo": {
     "elapsed": 14,
     "status": "ok",
     "timestamp": 1651851896848,
     "user": {
      "displayName": "John",
      "userId": "10811631092418059896"
     },
     "user_tz": -120
    },
    "id": "iM-w7-8aL61j",
    "outputId": "f80fc8a4-2545-4021-c67e-b1d183fc79c7"
   },
   "outputs": [
    {
     "name": "stdout",
     "output_type": "stream",
     "text": [
      "Device: cpu\n"
     ]
    }
   ],
   "source": [
    "# device settings\n",
    "if torch.cuda.is_available():\n",
    "    my_device = torch.device('cuda')\n",
    "else:\n",
    "    my_device = torch.device('cpu')\n",
    "print('Device: {}'.format(my_device))"
   ]
  },
  {
   "cell_type": "markdown",
   "metadata": {
    "id": "KMn1bq--LJIb"
   },
   "source": [
    "## Deep Hedging in the Black-Scholes Model"
   ]
  },
  {
   "cell_type": "code",
   "execution_count": 3,
   "metadata": {
    "executionInfo": {
     "elapsed": 338,
     "status": "ok",
     "timestamp": 1651851897178,
     "user": {
      "displayName": "John",
      "userId": "10811631092418059896"
     },
     "user_tz": -120
    },
    "id": "Gs7HBgm1Lf6b"
   },
   "outputs": [],
   "source": [
    "# define parameters\n",
    "d = 1  # number of hedging instruments \n",
    "T = 30/365  # maturity\n",
    "N = 30  # time discretization\n",
    "dt = T/N  # time step\n",
    "\n",
    "# Black-Scholes model parameters\n",
    "s0 = (100.0)  # inital value(s)\n",
    "sigma = 0.2  # volatility\n",
    "model = BlackScholesModel(initial_value=s0, sigma=sigma, dt=dt, device=my_device)\n",
    "\n",
    "# derivative to hedge\n",
    "call = True\n",
    "strike = s0 \n",
    "derivative = EuropeanOption(call=call, strike=strike, maturity=T)\n",
    "price = None\n",
    "\n",
    "q = BlackScholesHedger(n_dim=d, n_steps=N, model=model, derivative=derivative, sigma=sigma).price().item()\n",
    "#print('The risk neutral price is given by {:.4f}.'.format(q))\n",
    "\n",
    "# risk measure\n",
    "alpha = 0.5\n",
    "risk_measure = AverageValueAtRisk(alpha=alpha)\n",
    "\n",
    "# market impact model\n",
    "lambd = 0.0\n",
    "market_impact = ZeroImpact()\n",
    "\n",
    "# transaction cost model\n",
    "c = 0.0\n",
    "transaction_cost = ZeroCost()\n",
    "\n",
    "# validation samples\n",
    "validation_samples = 1000000"
   ]
  },
  {
   "cell_type": "code",
   "execution_count": 4,
   "metadata": {
    "colab": {
     "base_uri": "https://localhost:8080/"
    },
    "executionInfo": {
     "elapsed": 251,
     "status": "ok",
     "timestamp": 1651851897427,
     "user": {
      "displayName": "John",
      "userId": "10811631092418059896"
     },
     "user_tz": -120
    },
    "id": "ysVPtHqbLaat",
    "outputId": "ba4b0eb6-90e5-4171-e035-58625603d1ac"
   },
   "outputs": [
    {
     "data": {
      "text/plain": [
       "_IncompatibleKeys(missing_keys=[], unexpected_keys=['initial_value'])"
      ]
     },
     "execution_count": 4,
     "metadata": {},
     "output_type": "execute_result"
    }
   ],
   "source": [
    "path = 'saved_models/black_scholes_deep_hedging'  # path to saved models\n",
    "file_name = 'deep_hedger_bs'\n",
    "\n",
    "deep_hedger = DeepHedger(n_dim=d, n_steps=N, model=model, market_impact=market_impact, transaction_cost=transaction_cost).to(my_device)\n",
    "deep_hedger.load_state_dict(torch.load('{}/{}.pth'.format(path, file_name)), strict=False)"
   ]
  },
  {
   "cell_type": "code",
   "execution_count": 5,
   "metadata": {
    "colab": {
     "base_uri": "https://localhost:8080/",
     "height": 265
    },
    "executionInfo": {
     "elapsed": 12113,
     "status": "ok",
     "timestamp": 1651851909537,
     "user": {
      "displayName": "John",
      "userId": "10811631092418059896"
     },
     "user_tz": -120
    },
    "id": "U61MElG3LyWk",
    "outputId": "7e7a4a9d-e714-432d-a6ea-60458039060c"
   },
   "outputs": [
    {
     "data": {
      "image/png": "[encoded data removed]",
      "text/plain": [
       "<Figure size 432x288 with 1 Axes>"
      ]
     },
     "metadata": {
      "needs_background": "light"
     },
     "output_type": "display_data"
    }
   ],
   "source": [
    "figure_file_name = 'black_scholes_pnl.pdf'\n",
    "\n",
    "compare_to_black_scholes_hedger(deep_hedger, derivative=derivative, sigma=sigma,\n",
    "                                risk_measure=risk_measure, n_samples=validation_samples, price=q, device=my_device,\n",
    "                                labels=['AVaR-0.5', 'model hedge'], file_name=figure_path+figure_file_name)"
   ]
  },
  {
   "cell_type": "markdown",
   "metadata": {
    "id": "1W_k6tnYQs6Q"
   },
   "source": [
    "## Deep Hedging with a simple network structure"
   ]
  },
  {
   "cell_type": "code",
   "execution_count": 6,
   "metadata": {
    "colab": {
     "base_uri": "https://localhost:8080/"
    },
    "executionInfo": {
     "elapsed": 355,
     "status": "ok",
     "timestamp": 1651851909886,
     "user": {
      "displayName": "John",
      "userId": "10811631092418059896"
     },
     "user_tz": -120
    },
    "id": "6iglm8PMQ755",
    "outputId": "e43a8abd-de34-4c05-e4e2-6e89de7ad224"
   },
   "outputs": [
    {
     "data": {
      "text/plain": [
       "<All keys matched successfully>"
      ]
     },
     "execution_count": 6,
     "metadata": {},
     "output_type": "execute_result"
    }
   ],
   "source": [
    "path = 'saved_models/black_scholes_deep_hedging'  # path to saved models\n",
    "file_name = 'simple_hedger_bs'\n",
    "\n",
    "simple_hedger = SimpleDeepHedger(n_dim=d, n_steps=N, model=model, market_impact=market_impact, transaction_cost=transaction_cost).to(my_device)\n",
    "simple_hedger.load_state_dict(torch.load('{}/{}.pth'.format(path, file_name)), strict=False)"
   ]
  },
  {
   "cell_type": "code",
   "execution_count": 7,
   "metadata": {
    "colab": {
     "base_uri": "https://localhost:8080/",
     "height": 265
    },
    "executionInfo": {
     "elapsed": 342,
     "status": "ok",
     "timestamp": 1651851910224,
     "user": {
      "displayName": "John",
      "userId": "10811631092418059896"
     },
     "user_tz": -120
    },
    "id": "LO4tYhyARB8e",
    "outputId": "39e8f8ed-17f0-4762-d9d3-5d6297fa5423"
   },
   "outputs": [
    {
     "data": {
      "image/png": "[encoded data removed]",
      "text/plain": [
       "<Figure size 432x288 with 1 Axes>"
      ]
     },
     "metadata": {
      "needs_background": "light"
     },
     "output_type": "display_data"
    }
   ],
   "source": [
    "figure_file_name = 'black_scholes_strategy_comparison.pdf'\n",
    "\n",
    "black_scholes_hedger = BlackScholesHedger(n_dim=d, n_steps=N, model=model, derivative=derivative, sigma=sigma,\n",
    "                                          market_impact=market_impact, transaction_cost=transaction_cost)\n",
    "compare_strategy(hedgers=[black_scholes_hedger, simple_hedger], labels=['model delta', 'network delta'], n_step=15, \n",
    "                 file_name=figure_path+figure_file_name)"
   ]
  },
  {
   "cell_type": "code",
   "execution_count": 8,
   "metadata": {
    "colab": {
     "base_uri": "https://localhost:8080/",
     "height": 265
    },
    "executionInfo": {
     "elapsed": 14587,
     "status": "ok",
     "timestamp": 1651851924804,
     "user": {
      "displayName": "John",
      "userId": "10811631092418059896"
     },
     "user_tz": -120
    },
    "id": "E4ED3iNmRJPD",
    "outputId": "2ef4e874-c6fc-46c9-c619-ed6370e69b21"
   },
   "outputs": [
    {
     "data": {
      "image/png": "[encoded data removed]",
      "text/plain": [
       "<Figure size 432x288 with 1 Axes>"
      ]
     },
     "metadata": {
      "needs_background": "light"
     },
     "output_type": "display_data"
    }
   ],
   "source": [
    "figure_file_name = 'black_scholes_simple_vs_recurrent.pdf'\n",
    "\n",
    "compare_hedgers(hedgers=[simple_hedger, deep_hedger], model=model, derivative=derivative,\n",
    "                labels=['simpler', 'recurrent'], n_samples=validation_samples, price=q, file_name=figure_path+figure_file_name)"
   ]
  },
  {
   "cell_type": "markdown",
   "metadata": {
    "id": "qjRdfRkoTUxF"
   },
   "source": [
    "## Deep Hedging with different risk preferences"
   ]
  },
  {
   "cell_type": "code",
   "execution_count": 9,
   "metadata": {
    "executionInfo": {
     "elapsed": 18,
     "status": "ok",
     "timestamp": 1651851924805,
     "user": {
      "displayName": "John",
      "userId": "10811631092418059896"
     },
     "user_tz": -120
    },
    "id": "HNdMtBJITZYh"
   },
   "outputs": [],
   "source": [
    "# risk measure\n",
    "alpha = 0.01\n",
    "risk_measure = AverageValueAtRisk(alpha=alpha)"
   ]
  },
  {
   "cell_type": "code",
   "execution_count": 10,
   "metadata": {
    "colab": {
     "base_uri": "https://localhost:8080/"
    },
    "executionInfo": {
     "elapsed": 14,
     "status": "ok",
     "timestamp": 1651851924806,
     "user": {
      "displayName": "John",
      "userId": "10811631092418059896"
     },
     "user_tz": -120
    },
    "id": "D4qA5KcuTsc1",
    "outputId": "177292a6-4aa2-4c28-90c5-5f4f1d4fd478"
   },
   "outputs": [
    {
     "data": {
      "text/plain": [
       "<All keys matched successfully>"
      ]
     },
     "execution_count": 10,
     "metadata": {},
     "output_type": "execute_result"
    }
   ],
   "source": [
    "path = 'saved_models/black_scholes_deep_hedging'  # path to saved models\n",
    "file_name = 'risk_averse_hedger_bs'\n",
    "\n",
    "risk_averse_hedger = DeepHedger(n_dim=d, n_steps=N, model=model, market_impact=market_impact, transaction_cost=transaction_cost).to(my_device)\n",
    "risk_averse_hedger.load_state_dict(torch.load('{}/{}.pth'.format(path, file_name)), strict=False)"
   ]
  },
  {
   "cell_type": "code",
   "execution_count": 11,
   "metadata": {
    "colab": {
     "base_uri": "https://localhost:8080/",
     "height": 265
    },
    "executionInfo": {
     "elapsed": 28591,
     "status": "ok",
     "timestamp": 1651851953389,
     "user": {
      "displayName": "John",
      "userId": "10811631092418059896"
     },
     "user_tz": -120
    },
    "id": "lS6HtjKZT29Y",
    "outputId": "38c1d9cd-a70c-4fa9-e97a-88a01e8e9000"
   },
   "outputs": [
    {
     "data": {
      "image/png": "[encoded data removed]",
      "text/plain": [
       "<Figure size 432x288 with 1 Axes>"
      ]
     },
     "metadata": {
      "needs_background": "light"
     },
     "output_type": "display_data"
    }
   ],
   "source": [
    "figure_file_name = 'risk_preference_pnl.pdf'\n",
    "\n",
    "hedgers = [risk_averse_hedger, deep_hedger]\n",
    "labels = ['AVaR-0.01', 'AVaR-0.5']\n",
    "risk_measures = [AverageValueAtRisk(alpha=0.01), AverageValueAtRisk(alpha=0.5)]\n",
    "table_labels = ['Realized AVaR-0.01', 'Realized AVaR-0.5']\n",
    "\n",
    "risk_adjusted_p_0 = risk_averse_hedger.price(derivative=derivative, risk_measure=risk_measure, n_samples=validation_samples)\n",
    "p_0 = deep_hedger.price(derivative=derivative, risk_measure=AverageValueAtRisk(alpha=0.5), n_samples=validation_samples)\n",
    "prices = [risk_adjusted_p_0, p_0]\n",
    "\n",
    "compare_hedgers(hedgers=hedgers, model=model, derivative=derivative, price=prices,\n",
    "                labels=labels, n_samples=validation_samples, file_name=figure_path+figure_file_name)"
   ]
  },
  {
   "cell_type": "code",
   "execution_count": 12,
   "metadata": {
    "colab": {
     "base_uri": "https://localhost:8080/",
     "height": 390
    },
    "executionInfo": {
     "elapsed": 15091,
     "status": "ok",
     "timestamp": 1651851968472,
     "user": {
      "displayName": "John",
      "userId": "10811631092418059896"
     },
     "user_tz": -120
    },
    "id": "kxt06fMJUNUy",
    "outputId": "5bab7336-6139-4b27-b6df-01718c083222"
   },
   "outputs": [
    {
     "data": {
      "image/png": "[encoded data removed]",
      "text/plain": [
       "<Figure size 432x288 with 1 Axes>"
      ]
     },
     "metadata": {
      "needs_background": "light"
     },
     "output_type": "display_data"
    }
   ],
   "source": [
    "figure_file_name = 'risk_preference_table.pdf'\n",
    "\n",
    "compare_hedgers(hedgers=hedgers, model=model, derivative=derivative, price=q,\n",
    "                risk_measure=risk_measures, n_samples=validation_samples,\n",
    "                labels=labels, table_labels=table_labels, table=True,\n",
    "                file_name=figure_path+figure_file_name)"
   ]
  },
  {
   "cell_type": "markdown",
   "metadata": {
    "id": "2K3Gr-qlUWmY"
   },
   "source": [
    "## Deep Hedging in the Bachelier Model with permanent price impact"
   ]
  },
  {
   "cell_type": "code",
   "execution_count": 13,
   "metadata": {
    "executionInfo": {
     "elapsed": 11,
     "status": "ok",
     "timestamp": 1651851968474,
     "user": {
      "displayName": "John",
      "userId": "10811631092418059896"
     },
     "user_tz": -120
    },
    "id": "8fYW1o5CBiFw"
   },
   "outputs": [],
   "source": [
    "# define parameters\n",
    "d = 1  # number of hedging instruments \n",
    "T = 30/365  # maturity\n",
    "N = 30  # time discretization\n",
    "dt = T/N  # time step\n",
    "\n",
    "# Bachelier model parameters\n",
    "s0 = (100.0)  # inital value(s)\n",
    "sigma = 0.2  # volatility\n",
    "model = BachelierModel(initial_value=s0, sigma=sigma, dt=dt, device=my_device)\n",
    "\n",
    "# derivative to hedge\n",
    "call = True\n",
    "strike = s0 \n",
    "derivative = EuropeanOption(call=call, strike=strike, maturity=T)\n",
    "price = None\n",
    "\n",
    "# risk neutral price\n",
    "q = BachelierHedger(n_dim=d, n_steps=N, model=model, derivative=derivative, sigma=sigma).price().item()\n",
    "\n",
    "# risk measure\n",
    "alpha = 0.5\n",
    "risk_measure = AverageValueAtRisk(alpha=alpha)\n",
    "\n",
    "# market impact model\n",
    "lambd = 1.0\n",
    "market_impact = FixedImpact(lambd=lambd)\n",
    "\n",
    "# transaction cost model\n",
    "c = 0.0\n",
    "transaction_cost = ZeroCost()"
   ]
  },
  {
   "cell_type": "code",
   "execution_count": 14,
   "metadata": {
    "colab": {
     "base_uri": "https://localhost:8080/"
    },
    "executionInfo": {
     "elapsed": 340,
     "status": "ok",
     "timestamp": 1651851968807,
     "user": {
      "displayName": "John",
      "userId": "10811631092418059896"
     },
     "user_tz": -120
    },
    "id": "jqIXhgSwBrDi",
    "outputId": "6eb7b4b4-eabc-4ae0-a6d7-269b88136125"
   },
   "outputs": [
    {
     "data": {
      "text/plain": [
       "<All keys matched successfully>"
      ]
     },
     "execution_count": 14,
     "metadata": {},
     "output_type": "execute_result"
    }
   ],
   "source": [
    "path = 'saved_models/deep_hedging_with_impact'  # path to saved models\n",
    "file_name = 'deep_hedger_impact_bachelier'\n",
    "\n",
    "deep_hedger_impact = DeepHedger(n_dim=d, n_steps=N, model=model, market_impact=market_impact, transaction_cost=transaction_cost).to(my_device)\n",
    "deep_hedger_impact.load_state_dict(torch.load('{}/{}.pth'.format(path, file_name)), strict=False)"
   ]
  },
  {
   "cell_type": "code",
   "execution_count": 15,
   "metadata": {
    "colab": {
     "base_uri": "https://localhost:8080/",
     "height": 265
    },
    "executionInfo": {
     "elapsed": 32522,
     "status": "ok",
     "timestamp": 1651852001326,
     "user": {
      "displayName": "John",
      "userId": "10811631092418059896"
     },
     "user_tz": -120
    },
    "id": "6cLo4JLZBxF8",
    "outputId": "6845169f-ff43-40f0-8a03-4fded87af3c5"
   },
   "outputs": [
    {
     "data": {
      "image/png": "[encoded data removed]",
      "text/plain": [
       "<Figure size 432x288 with 1 Axes>"
      ]
     },
     "metadata": {
      "needs_background": "light"
     },
     "output_type": "display_data"
    }
   ],
   "source": [
    "figure_file_name = 'impact_pnl.pdf'\n",
    "\n",
    "bachelier_hedger = BachelierHedgerFixedImpact(n_steps=N, model=model, market_impact=market_impact, transaction_cost=transaction_cost, \n",
    "                                             sigma=sigma, lambd=lambd)\n",
    "compare_hedgers(hedgers=[deep_hedger_impact, bachelier_hedger], model=model, derivative=derivative,\n",
    "                n_samples=validation_samples, price=q, labels=['AVaR-0.5', 'model hedge'], file_name=figure_path+figure_file_name)"
   ]
  },
  {
   "cell_type": "markdown",
   "metadata": {
    "id": "w59cC0UJCRXg"
   },
   "source": [
    "## Deep Hedging with a simple structure in the presence of market impact"
   ]
  },
  {
   "cell_type": "code",
   "execution_count": 16,
   "metadata": {
    "executionInfo": {
     "elapsed": 5,
     "status": "ok",
     "timestamp": 1651852001327,
     "user": {
      "displayName": "John",
      "userId": "10811631092418059896"
     },
     "user_tz": -120
    },
    "id": "mf1SPPtDCTQS"
   },
   "outputs": [],
   "source": [
    "# risk measure\n",
    "alpha = 0.01\n",
    "risk_measure = AverageValueAtRisk(alpha=alpha)\n",
    "\n",
    "# market impact model\n",
    "lambd = 1.0\n",
    "market_impact = FixedImpact(lambd=lambd)\n",
    "\n",
    "# transaction cost model\n",
    "c = 0.0\n",
    "transaction_cost = ZeroCost()"
   ]
  },
  {
   "cell_type": "code",
   "execution_count": 17,
   "metadata": {
    "colab": {
     "base_uri": "https://localhost:8080/"
    },
    "executionInfo": {
     "elapsed": 953,
     "status": "ok",
     "timestamp": 1651852002276,
     "user": {
      "displayName": "John",
      "userId": "10811631092418059896"
     },
     "user_tz": -120
    },
    "id": "x4x8twmmCzmB",
    "outputId": "076c84a5-df4e-4a77-f3f7-815ed25427b5"
   },
   "outputs": [
    {
     "data": {
      "text/plain": [
       "<All keys matched successfully>"
      ]
     },
     "execution_count": 17,
     "metadata": {},
     "output_type": "execute_result"
    }
   ],
   "source": [
    "path_simple = 'saved_models/deep_hedging_with_impact'  # path to saved models\n",
    "file_name_simple = 'simple_hedger_impact_bachelier'\n",
    "\n",
    "simple_hedger_impact = SimpleDeepHedger(n_dim=d, n_steps=N, model=model, market_impact=market_impact, transaction_cost=transaction_cost).to(my_device)\n",
    "simple_hedger_impact.load_state_dict(torch.load('{}/{}.pth'.format(path_simple, file_name_simple)), strict=False)\n",
    "\n",
    "path_recurrent = 'saved_models/deep_hedging_with_impact'  # path to saved models\n",
    "file_name_recurrent = 'recurrent_hedger_impact_bachelier'\n",
    "\n",
    "recurrent_hedger_impact = DeepHedger(n_dim=d, n_steps=N, model=model, market_impact=market_impact, transaction_cost=transaction_cost).to(my_device)\n",
    "recurrent_hedger_impact.load_state_dict(torch.load('{}/{}.pth'.format(path_recurrent, file_name_recurrent)), strict=False)"
   ]
  },
  {
   "cell_type": "code",
   "execution_count": 18,
   "metadata": {
    "colab": {
     "base_uri": "https://localhost:8080/",
     "height": 390
    },
    "executionInfo": {
     "elapsed": 15242,
     "status": "ok",
     "timestamp": 1651852017514,
     "user": {
      "displayName": "John",
      "userId": "10811631092418059896"
     },
     "user_tz": -120
    },
    "id": "dpybRh5_DGTI",
    "outputId": "cc597928-6a53-463c-f3fc-70f5608428a5"
   },
   "outputs": [
    {
     "data": {
      "image/png": "[encoded data removed]",
      "text/plain": [
       "<Figure size 432x288 with 1 Axes>"
      ]
     },
     "metadata": {
      "needs_background": "light"
     },
     "output_type": "display_data"
    }
   ],
   "source": [
    "figure_file_name = 'impact_simple_vs_recurrent.pdf'\n",
    "\n",
    "hedgers=[simple_hedger_impact, recurrent_hedger_impact]\n",
    "labels = ['simpler', 'recurrent']\n",
    "prices = None\n",
    "risk_measures = risk_measure\n",
    "table_labels = ['Price']\n",
    "\n",
    "compare_hedgers(hedgers=hedgers, model=model, derivative=derivative,\n",
    "                risk_measure=risk_measures, n_samples=validation_samples, price=prices, \n",
    "                labels=labels, table_labels=table_labels, table=True, file_name=figure_path+figure_file_name)"
   ]
  }
 ],
 "metadata": {
  "colab": {
   "authorship_tag": "ABX9TyOvqnJdjQ33jbQU3gCKlkaX",
   "name": "generate_figures.ipynb",
   "provenance": []
  },
  "kernelspec": {
   "display_name": "Python 3 (ipykernel)",
   "language": "python",
   "name": "python3"
  },
  "language_info": {
   "codemirror_mode": {
    "name": "ipython",
    "version": 3
   },
   "file_extension": ".py",
   "mimetype": "text/x-python",
   "name": "python",
   "nbconvert_exporter": "python",
   "pygments_lexer": "ipython3",
   "version": "3.7.10"
  }
 },
 "nbformat": 4,
 "nbformat_minor": 4
}
